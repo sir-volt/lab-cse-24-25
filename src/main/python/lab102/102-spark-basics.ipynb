{
 "cells": [
  {
   "metadata": {},
   "cell_type": "code",
   "outputs": [],
   "execution_count": null,
   "source": [
    "# 102 Spark basics\n",
    "\n",
    "The goal of this lab is to get familiar with Spark programming.\n",
    "\n",
    "- [Spark programming guide](https://spark.apache.org/docs/latest/rdd-programming-guide.html)\n",
    "- [RDD APIs](https://spark.apache.org/docs/latest/api/scala/org/apache/spark/rdd/RDD.html)\n",
    "- [PairRDD APIs](https://spark.apache.org/docs/latest/api/scala/org/apache/spark/rdd/PairRDDFunctions.html)"
   ],
   "id": "4bcbceae5af61b0e"
  },
  {
   "metadata": {
    "ExecuteTime": {
     "end_time": "2024-10-22T08:50:22.936926Z",
     "start_time": "2024-10-22T08:49:49.325643Z"
    }
   },
   "cell_type": "code",
   "source": "import org.apache.spark",
   "id": "11bb4f39692d0432",
   "outputs": [
    {
     "data": {
      "text/plain": [
       "Intitializing Scala interpreter ..."
      ]
     },
     "metadata": {},
     "output_type": "display_data"
    },
    {
     "data": {
      "text/plain": [
       "Spark Web UI available at http://LAPTOP-T2P39KLE:4040\n",
       "SparkContext available as 'sc' (version = 3.5.1, master = local[*], app id = local-1729587000353)\n",
       "SparkSession available as 'spark'\n"
      ]
     },
     "metadata": {},
     "output_type": "display_data"
    },
    {
     "data": {
      "text/plain": [
       "import org.apache.spark\r\n"
      ]
     },
     "execution_count": 1,
     "metadata": {},
     "output_type": "execute_result"
    }
   ],
   "execution_count": 1
  },
  {
   "metadata": {},
   "cell_type": "code",
   "outputs": [],
   "execution_count": null,
   "source": [
    "// DO NOT EXECUTE - this is needed just to avoid showing errors in the following cells\n",
    "val sc = spark.SparkContext.getOrCreate()"
   ],
   "id": "b2e281923de95ede"
  },
  {
   "metadata": {},
   "cell_type": "code",
   "outputs": [],
   "execution_count": null,
   "source": [
    "## 102-1 Spark warm-up\n",
    "\n",
    "Load the ```capra``` and ```divinacommedia``` datasets and try the following actions:\n",
    "- Show their content (```collect```)\n",
    "- Count their rows (```count```)\n",
    "- Split phrases into words (```map``` or ```flatMap```; what’s the difference?)\n",
    "- Check the results (remember: evaluation is lazy)\n",
    "- Try the ```toDebugString``` function to check the execution plan"
   ],
   "id": "a8a9da0765043579"
  },
  {
   "metadata": {
    "ExecuteTime": {
     "end_time": "2024-10-22T08:50:29.678114Z",
     "start_time": "2024-10-22T08:50:27.875589Z"
    }
   },
   "cell_type": "code",
   "source": [
    "val rddCapra = sc.textFile(\"../../../../datasets/capra.txt\")\n",
    "val rddDC = sc.textFile(\"../../../../datasets/divinacommedia.txt\")\n",
    "//COLLECT\n",
    "val capraData = rddCapra.collect()\n",
    "val DCData = rddDC.collect()\n",
    "//COUNT\n",
    "val capraCount = rddCapra.count()\n",
    "val DCCount = rddDC.count()\n",
    "print(capraCount + \"\\n\")\n",
    "print(DCCount + \"\\n\")"
   ],
   "id": "1d4b54258f7a941f",
   "outputs": [
    {
     "name": "stdout",
     "output_type": "stream",
     "text": [
      "2\n",
      "14753\n"
     ]
    },
    {
     "data": {
      "text/plain": [
       "rddCapra: org.apache.spark.rdd.RDD[String] = ../../../../datasets/capra.txt MapPartitionsRDD[5] at textFile at <console>:29\r\n",
       "rddDC: org.apache.spark.rdd.RDD[String] = ../../../../datasets/divinacommedia.txt MapPartitionsRDD[7] at textFile at <console>:30\r\n",
       "capraData: Array[String] = Array(sopra la panca la capra campa, sotto la panca la capra crepa)\r\n",
       "DCData: Array[String] = Array(LA DIVINA COMMEDIA, di Dante Alighieri, INFERNO, \"\", \"\", \"\", Inferno: Canto I, \"\", \"  Nel mezzo del cammin di nostra vita\", mi ritrovai per una selva oscura, ch� la diritta via era smarrita., \"  Ahi quanto a dir qual era � cosa dura\", esta selva selvaggia e aspra e forte, che nel pensier rinova la paura!, \"  Tant'� amara che poco � pi� morte;\", ma per trattar del ben ch'i' vi trovai,, dir� de l'altre cose ch'i' ...\r\n"
      ]
     },
     "execution_count": 3,
     "metadata": {},
     "output_type": "execute_result"
    }
   ],
   "execution_count": 3
  },
  {
   "metadata": {
    "ExecuteTime": {
     "end_time": "2024-10-16T09:13:04.543716Z",
     "start_time": "2024-10-16T09:13:03.812959Z"
    }
   },
   "cell_type": "code",
   "source": [
    "//MAP e FLATMAP\n",
    "val splitCapra = rddCapra.map(x => x.split(\" \")).collect()\n",
    "val splitDC = rddDC.map(x => x.split(\" \")).collect()"
   ],
   "id": "3347e947fcb92581",
   "outputs": [
    {
     "data": {
      "text/plain": [
       "splitCapra: Array[Array[String]] = Array(Array(sopra, la, panca, la, capra, campa), Array(sotto, la, panca, la, capra, crepa))\r\n",
       "splitDC: Array[Array[String]] = Array(Array(LA, DIVINA, COMMEDIA), Array(di, Dante, Alighieri), Array(INFERNO), Array(\"\"), Array(\"\"), Array(\"\"), Array(Inferno:, Canto, I), Array(\"\"), Array(\"\", \"\", Nel, mezzo, del, cammin, di, nostra, vita), Array(mi, ritrovai, per, una, selva, oscura), Array(ch�, la, diritta, via, era, smarrita.), Array(\"\", \"\", Ahi, quanto, a, dir, qual, era, �, cosa, dura), Array(esta, selva, selvaggia, e, aspra, e, forte), Array(che, nel, pensier, rinova, la, paura!), Array(\"\", \"\", Tant'�, amara, che, poco, �, pi�, morte;), Array(ma, per, trattar, del, ben, ch'i', vi, trovai,), Array(dir�, de, l'altre, cose, ch'i', v'ho, scorte.), Array(\"\", \"...\r\n"
      ]
     },
     "execution_count": 27,
     "metadata": {},
     "output_type": "execute_result"
    }
   ],
   "execution_count": 27
  },
  {
   "metadata": {
    "ExecuteTime": {
     "end_time": "2024-10-16T09:13:37.554140Z",
     "start_time": "2024-10-16T09:13:36.868746Z"
    }
   },
   "cell_type": "code",
   "source": [
    "val splitFlatCapra = rddCapra.flatMap(x => x.split(\" \")).collect()\n",
    "val splitFlatDC = rddDC.flatMap(x => x.split(\" \")).collect()"
   ],
   "id": "95b64a4c966e44e0",
   "outputs": [
    {
     "data": {
      "text/plain": [
       "splitFlatCapra: Array[String] = Array(sopra, la, panca, la, capra, campa, sotto, la, panca, la, capra, crepa)\r\n",
       "splitFlatDC: Array[String] = Array(LA, DIVINA, COMMEDIA, di, Dante, Alighieri, INFERNO, \"\", \"\", \"\", Inferno:, Canto, I, \"\", \"\", \"\", Nel, mezzo, del, cammin, di, nostra, vita, mi, ritrovai, per, una, selva, oscura, ch�, la, diritta, via, era, smarrita., \"\", \"\", Ahi, quanto, a, dir, qual, era, �, cosa, dura, esta, selva, selvaggia, e, aspra, e, forte, che, nel, pensier, rinova, la, paura!, \"\", \"\", Tant'�, amara, che, poco, �, pi�, morte;, ma, per, trattar, del, ben, ch'i', vi, trovai,, dir�, de, l'altre, cose, ch'i', v'ho, scorte., \"\", \"\", Io, non, so, ben, ridir, com'i', v'intrai,, tant'era, pien, di, sonno, a, quel, punto, che, la, verace, via, abbandonai., \"\", \"\", Ma, poi, ch'...\r\n"
      ]
     },
     "execution_count": 28,
     "metadata": {},
     "output_type": "execute_result"
    }
   ],
   "execution_count": 28
  },
  {
   "metadata": {
    "ExecuteTime": {
     "end_time": "2024-10-16T09:14:41.063919Z",
     "start_time": "2024-10-16T09:14:40.719029Z"
    }
   },
   "cell_type": "code",
   "source": "val debugFlatDC = rddDC.flatMap(x => x.split(\" \")).toDebugString",
   "id": "a206344ff3c58336",
   "outputs": [
    {
     "data": {
      "text/plain": [
       "debugFlatDC: String =\r\n",
       "(2) MapPartitionsRDD[94] at flatMap at <console>:25 []\r\n",
       " |  ../../../../datasets/divinacommedia.txt MapPartitionsRDD[83] at textFile at <console>:30 []\r\n",
       " |  ../../../../datasets/divinacommedia.txt HadoopRDD[82] at textFile at <console>:30 []\r\n"
      ]
     },
     "execution_count": 29,
     "metadata": {},
     "output_type": "execute_result"
    }
   ],
   "execution_count": 29
  },
  {
   "metadata": {},
   "cell_type": "code",
   "outputs": [],
   "execution_count": null,
   "source": [
    "## 102-2 Basic Spark jobs\n",
    "\n",
    "Implement on Spark the following jobs and test them on both capra and divinacommedia datasets.\n",
    "\n",
    "- **Word count**: count the number of occurrences of each word\n",
    "  - Result: (sopra, 1), (la, 4), …\n",
    "- **Word length count**: count the number of occurrences of words of given lengths\n",
    "  - Result: (2, 4), (5, 8)\n",
    "- Count the average length of words given their first letter (i.e., words that begin with \"s\" have an average length of 5)\n",
    "  - Result: (s, 5), (l, 2), …\n",
    "- Return the inverted index of words (i.e., for each word, list the numbers of lines in which they appear)\n",
    "  - Result: (sopra, (0)), (la, (0, 1)), ...\n",
    "\n",
    "Also, check how sorting works and try to sort key-value RDDs by descending values."
   ],
   "id": "22767efe7b3d9935"
  },
  {
   "metadata": {
    "ExecuteTime": {
     "end_time": "2024-10-16T09:20:46.323442Z",
     "start_time": "2024-10-16T09:20:45.218239Z"
    }
   },
   "cell_type": "code",
   "source": [
    "//WORD COUNT OF EACH WORD\n",
    "val getCapraOccurrences = rddCapra.flatMap(_.split(\" \")).\n",
    "          map(word => (word, 1)).\n",
    "          reduceByKey((x, y) => x+y).sortByKey().collect\n",
    "val getDCOccurrences = rddDC.flatMap(_.split(\" \")).\n",
    "        map(word => (word, 1)).\n",
    "        reduceByKey((x, y) => x+y).collect"
   ],
   "id": "a1cbf1514fbaeb69",
   "outputs": [
    {
     "data": {
      "text/plain": [
       "getCapraOccurrences: Array[(String, Int)] = Array((campa,1), (capra,2), (crepa,1), (la,4), (panca,2), (sopra,1), (sotto,1))\r\n",
       "getDCOccurrences: Array[(String, Int)] = Array((grand'avello,,1), (diseta,1), (vane.,1), (tonda,3), (blandimenti;,1), (sapore,1), (dando,3), (Verrucchio,,1), (Mantua,1), (m'apparvero,1), (disiderate,1), (dole,1), (moventi,1), (rincalzi,1), (freni,,1), (Voglia,1), (focina,1), (tormento,5), (s�:,2), (marino,,1), (scalz�,1), (pensassi,1), (esser,,2), (rade,2), (prava\".,1), (Forese,,1), (forti,4), (rossi:,1), (richiuso\".,1), (\"Segnor,1), (rota.,1), (\"ver',1), (pronti,1), (tr'ambo,2), (ch'ode,1), (chiari,,1), (lontana?\".,1), (rinovelle.,1), (perdonasse,1), (Pluto,,1), (falsai,2), (nova,,3), (sparito,,1), (stampa,,1), (doglia,7), (regina,3), (pianto;,2), (Alto,2), (giov...\r\n"
      ]
     },
     "execution_count": 34,
     "metadata": {},
     "output_type": "execute_result"
    }
   ],
   "execution_count": 34
  },
  {
   "metadata": {
    "ExecuteTime": {
     "end_time": "2024-10-16T09:35:23.673137Z",
     "start_time": "2024-10-16T09:35:22.219792Z"
    }
   },
   "cell_type": "code",
   "source": [
    "//WORD LENGTH OF EACH WORD\n",
    "val getSameLengthCapraOccurrences = rddCapra.flatMap(_.split(\" \")).\n",
    "          map(word => (word.length, 1)).\n",
    "          reduceByKey(_+_).sortByKey().collect\n",
    "val getSameLengthDCOccurrences = rddDC.flatMap(_.split(\" \")).\n",
    "        map(word => (word.length, 1)).\n",
    "        reduceByKey(_+_).sortByKey().collect"
   ],
   "id": "ba4d5220dad1e7fe",
   "outputs": [
    {
     "data": {
      "text/plain": [
       "getCapraOccurrences: Array[(Int, Int)] = Array((2,4), (5,8))\r\n",
       "getDCOccurrences: Array[(Int, Int)] = Array((0,10684), (1,6992), (2,19258), (3,16887), (4,9111), (5,13504), (6,11775), (7,7379), (8,5363), (9,3231), (10,1741), (11,933), (12,370), (13,154), (14,50), (15,18), (16,3), (17,1))\r\n"
      ]
     },
     "execution_count": 43,
     "metadata": {},
     "output_type": "execute_result"
    }
   ],
   "execution_count": 43
  },
  {
   "metadata": {
    "ExecuteTime": {
     "end_time": "2024-10-22T08:54:05.084806Z",
     "start_time": "2024-10-22T08:54:03.840511Z"
    }
   },
   "cell_type": "code",
   "source": [
    "// COUNT AVERAGE LENGTH OF WORDS\n",
    "val getAverageLengthInCapra = rddCapra.flatMap(_.split(\" \")).\n",
    "          filter( _.length > 0 ).\n",
    "          map( x => (x.substring(0,1).toLowerCase, (1.0,x.length.toDouble))).\n",
    "          reduceByKey((x, y) => (x._1 + y._1, x._2 + y._2)).\n",
    "          mapValues(v => v._2/v._1).\n",
    "          collect()"
   ],
   "id": "16efb7641d31a35e",
   "outputs": [
    {
     "data": {
      "text/plain": [
       "getAverageLengthInCapra: Array[(String, Double)] = Array((p,5.0), (l,2.0), (s,5.0), (c,5.0))\r\n"
      ]
     },
     "execution_count": 5,
     "metadata": {},
     "output_type": "execute_result"
    }
   ],
   "execution_count": 5
  },
  {
   "metadata": {
    "ExecuteTime": {
     "end_time": "2024-10-22T08:57:43.951429Z",
     "start_time": "2024-10-22T08:57:42.635925Z"
    }
   },
   "cell_type": "code",
   "source": [
    "//INVERTED INDEX OF WORDS\n",
    "val invertedIndexInCapra = rddCapra.flatMap(_.split(\" \")).zipWithIndex().groupByKey().collect\n",
    "val invertedIndexInCapra2 = rddCapra.zipWithIndex().\n",
    "        map({case (k,v)=>(v,k)}).\n",
    "        flatMapValues(_.split(\" \")).\n",
    "        map({case (k,v)=>(v,k)}).\n",
    "        distinct().\n",
    "        groupByKey().\n",
    "        collect()"
   ],
   "id": "ccc92663e6ad4eb",
   "outputs": [
    {
     "data": {
      "text/plain": [
       "invertedIndexInCapra: Array[(String, Iterable[Long])] = Array((campa,CompactBuffer(5)), (la,CompactBuffer(1, 3, 7, 9)), (panca,CompactBuffer(2, 8)), (sotto,CompactBuffer(6)), (crepa,CompactBuffer(11)), (sopra,CompactBuffer(0)), (capra,CompactBuffer(4, 10)))\r\n",
       "invertedIndexInCapra2: Array[(String, Iterable[Long])] = Array((campa,CompactBuffer(0)), (la,CompactBuffer(0, 1)), (panca,CompactBuffer(1, 0)), (sotto,CompactBuffer(1)), (crepa,CompactBuffer(1)), (sopra,CompactBuffer(0)), (capra,CompactBuffer(0, 1)))\r\n"
      ]
     },
     "execution_count": 9,
     "metadata": {},
     "output_type": "execute_result"
    }
   ],
   "execution_count": 9
  }
 ],
 "metadata": {
  "kernelspec": {
   "display_name": "spylon-kernel",
   "language": "scala",
   "name": "spylon-kernel"
  },
  "language_info": {
   "codemirror_mode": "text/x-scala",
   "mimetype": "text/x-scala",
   "name": "scala",
   "pygments_lexer": "scala"
  }
 },
 "nbformat": 4,
 "nbformat_minor": 5
}
