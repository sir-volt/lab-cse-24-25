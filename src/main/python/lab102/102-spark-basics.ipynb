{
 "cells": [
  {
   "cell_type": "markdown",
   "id": "7dd7243a-b7d3-4e47-b3ec-49cafdebada5",
   "metadata": {},
   "source": [
    "# 102 Spark basics\n",
    "\n",
    "The goal of this lab is to get familiar with Spark programming.\n",
    "\n",
    "- [Spark programming guide](https://spark.apache.org/docs/latest/rdd-programming-guide.html)\n",
    "- [RDD APIs](https://spark.apache.org/docs/latest/api/scala/org/apache/spark/rdd/RDD.html)\n",
    "- [PairRDD APIs](https://spark.apache.org/docs/latest/api/scala/org/apache/spark/rdd/PairRDDFunctions.html)"
   ]
  },
  {
   "metadata": {
    "ExecuteTime": {
     "end_time": "2024-10-30T08:10:26.716309Z",
     "start_time": "2024-10-30T08:10:06.171425Z"
    }
   },
   "cell_type": "code",
   "source": "import org.apache.spark",
   "id": "11bb4f39692d0432",
   "outputs": [
    {
     "data": {
      "text/plain": [
       "Intitializing Scala interpreter ..."
      ]
     },
     "metadata": {},
     "output_type": "display_data"
    },
    {
     "data": {
      "text/plain": [
       "Spark Web UI available at http://LAPTOP-T2P39KLE:4041\n",
       "SparkContext available as 'sc' (version = 3.5.1, master = local[*], app id = local-1730275817835)\n",
       "SparkSession available as 'spark'\n"
      ]
     },
     "metadata": {},
     "output_type": "display_data"
    },
    {
     "data": {
      "text/plain": [
       "import org.apache.spark\r\n"
      ]
     },
     "execution_count": 1,
     "metadata": {},
     "output_type": "execute_result"
    }
   ],
   "execution_count": 1
  },
  {
   "metadata": {},
   "cell_type": "code",
   "outputs": [],
   "execution_count": null,
   "source": [
    "// DO NOT EXECUTE - this is needed just to avoid showing errors in the following cells\n",
    "val sc = spark.SparkContext.getOrCreate()"
   ],
   "id": "b2e281923de95ede"
  },
  {
   "metadata": {},
   "cell_type": "markdown",
   "source": [
    "## 102-1 Spark warm-up\n",
    "\n",
    "Load the ```capra``` and ```divinacommedia``` datasets and try the following actions:\n",
    "- Show their content (```collect```)\n",
    "- Count their rows (```count```)\n",
    "- Split phrases into words (```map``` or ```flatMap```; what’s the difference?)\n",
    "- Check the results (remember: evaluation is lazy)\n",
    "- Try the ```toDebugString``` function to check the execution plan"
   ],
   "id": "7f9a0be28e5e823"
  },
  {
   "metadata": {
    "ExecuteTime": {
     "end_time": "2024-10-30T08:11:40.320542Z",
     "start_time": "2024-10-30T08:11:37.605864Z"
    }
   },
   "cell_type": "code",
   "source": [
    "val rddCapra = sc.textFile(\"../../../../datasets/capra.txt\")\n",
    "val rddDC = sc.textFile(\"../../../../datasets/divinacommedia.txt\")\n",
    "//COLLECT\n",
    "val capraData = rddCapra.collect()\n",
    "val DCData = rddDC.collect()\n",
    "//COUNT\n",
    "val capraCount = rddCapra.count()\n",
    "val DCCount = rddDC.count()\n",
    "print(capraCount + \"\\n\")\n",
    "print(DCCount + \"\\n\")"
   ],
   "id": "328dd30c50e7222d",
   "outputs": [
    {
     "name": "stdout",
     "output_type": "stream",
     "text": [
      "2\n",
      "14753\n"
     ]
    },
    {
     "data": {
      "text/plain": [
       "rddCapra: org.apache.spark.rdd.RDD[String] = ../../../../datasets/capra.txt MapPartitionsRDD[1] at textFile at <console>:25\r\n",
       "rddDC: org.apache.spark.rdd.RDD[String] = ../../../../datasets/divinacommedia.txt MapPartitionsRDD[3] at textFile at <console>:26\r\n",
       "capraData: Array[String] = Array(sopra la panca la capra campa, sotto la panca la capra crepa)\r\n",
       "DCData: Array[String] = Array(LA DIVINA COMMEDIA, di Dante Alighieri, INFERNO, \"\", \"\", \"\", Inferno: Canto I, \"\", \"  Nel mezzo del cammin di nostra vita\", mi ritrovai per una selva oscura, ch� la diritta via era smarrita., \"  Ahi quanto a dir qual era � cosa dura\", esta selva selvaggia e aspra e forte, che nel pensier rinova la paura!, \"  Tant'� amara che poco � pi� morte;\", ma per trattar del ben ch'i' vi trovai,, dir� de l'altre cose ch'i' ...\r\n"
      ]
     },
     "execution_count": 2,
     "metadata": {},
     "output_type": "execute_result"
    }
   ],
   "execution_count": 2
  },
  {
   "metadata": {
    "ExecuteTime": {
     "end_time": "2024-10-30T08:12:32.704087Z",
     "start_time": "2024-10-30T08:12:31.222069Z"
    }
   },
   "cell_type": "code",
   "source": [
    "//MAP e FLATMAP\n",
    "val splitCapra = rddCapra.map(x => x.split(\" \")).collect()\n",
    "val splitDC = rddDC.map(x => x.split(\" \")).collect()"
   ],
   "id": "58ef8a3982a58e64",
   "outputs": [
    {
     "data": {
      "text/plain": [
       "splitCapra: Array[Array[String]] = Array(Array(sopra, la, panca, la, capra, campa), Array(sotto, la, panca, la, capra, crepa))\r\n",
       "splitDC: Array[Array[String]] = Array(Array(LA, DIVINA, COMMEDIA), Array(di, Dante, Alighieri), Array(INFERNO), Array(\"\"), Array(\"\"), Array(\"\"), Array(Inferno:, Canto, I), Array(\"\"), Array(\"\", \"\", Nel, mezzo, del, cammin, di, nostra, vita), Array(mi, ritrovai, per, una, selva, oscura), Array(ch�, la, diritta, via, era, smarrita.), Array(\"\", \"\", Ahi, quanto, a, dir, qual, era, �, cosa, dura), Array(esta, selva, selvaggia, e, aspra, e, forte), Array(che, nel, pensier, rinova, la, paura!), Array(\"\", \"\", Tant'�, amara, che, poco, �, pi�, morte;), Array(ma, per, trattar, del, ben, ch'i', vi, trovai,), Array(dir�, de, l'altre, cose, ch'i', v'ho, scorte.), Array(\"\", \"...\r\n"
      ]
     },
     "execution_count": 3,
     "metadata": {},
     "output_type": "execute_result"
    }
   ],
   "execution_count": 3
  },
  {
   "metadata": {
    "ExecuteTime": {
     "end_time": "2024-10-30T08:12:52.659326Z",
     "start_time": "2024-10-30T08:12:51.548205Z"
    }
   },
   "cell_type": "code",
   "source": [
    "val splitFlatCapra = rddCapra.flatMap(x => x.split(\" \")).collect()\n",
    "val splitFlatDC = rddDC.flatMap(x => x.split(\" \")).collect()"
   ],
   "id": "562589ada760d498",
   "outputs": [
    {
     "data": {
      "text/plain": [
       "splitFlatCapra: Array[String] = Array(sopra, la, panca, la, capra, campa, sotto, la, panca, la, capra, crepa)\r\n",
       "splitFlatDC: Array[String] = Array(LA, DIVINA, COMMEDIA, di, Dante, Alighieri, INFERNO, \"\", \"\", \"\", Inferno:, Canto, I, \"\", \"\", \"\", Nel, mezzo, del, cammin, di, nostra, vita, mi, ritrovai, per, una, selva, oscura, ch�, la, diritta, via, era, smarrita., \"\", \"\", Ahi, quanto, a, dir, qual, era, �, cosa, dura, esta, selva, selvaggia, e, aspra, e, forte, che, nel, pensier, rinova, la, paura!, \"\", \"\", Tant'�, amara, che, poco, �, pi�, morte;, ma, per, trattar, del, ben, ch'i', vi, trovai,, dir�, de, l'altre, cose, ch'i', v'ho, scorte., \"\", \"\", Io, non, so, ben, ridir, com'i', v'intrai,, tant'era, pien, di, sonno, a, quel, punto, che, la, verace, via, abbandonai., \"\", \"\", Ma, poi, ch'...\r\n"
      ]
     },
     "execution_count": 4,
     "metadata": {},
     "output_type": "execute_result"
    }
   ],
   "execution_count": 4
  },
  {
   "metadata": {
    "ExecuteTime": {
     "end_time": "2024-10-30T08:13:08.586022Z",
     "start_time": "2024-10-30T08:13:07.825324Z"
    }
   },
   "cell_type": "code",
   "source": "val debugFlatDC = rddDC.flatMap(x => x.split(\" \")).toDebugString",
   "id": "bb8d376dc0286f6d",
   "outputs": [
    {
     "data": {
      "text/plain": [
       "debugFlatDC: String =\r\n",
       "(2) MapPartitionsRDD[8] at flatMap at <console>:25 []\r\n",
       " |  ../../../../datasets/divinacommedia.txt MapPartitionsRDD[3] at textFile at <console>:26 []\r\n",
       " |  ../../../../datasets/divinacommedia.txt HadoopRDD[2] at textFile at <console>:26 []\r\n"
      ]
     },
     "execution_count": 5,
     "metadata": {},
     "output_type": "execute_result"
    }
   ],
   "execution_count": 5
  },
  {
   "metadata": {},
   "cell_type": "code",
   "outputs": [],
   "execution_count": null,
   "source": "",
   "id": "d16e2327cf19fa25"
  },
  {
   "metadata": {},
   "cell_type": "markdown",
   "source": [
    "## 102-2 Basic Spark jobs\n",
    "\n",
    "Implement on Spark the following jobs and test them on both capra and divinacommedia datasets.\n",
    "\n",
    "- **Word count**: count the number of occurrences of each word\n",
    "  - Result: (sopra, 1), (la, 4), …\n",
    "- **Word length count**: count the number of occurrences of words of given lengths\n",
    "  - Result: (2, 4), (5, 8)\n",
    "- Count the average length of words given their first letter (i.e., words that begin with \"s\" have an average length of 5)\n",
    "  - Result: (s, 5), (l, 2), …\n",
    "- Return the inverted index of words (i.e., for each word, list the numbers of lines in which they appear)\n",
    "  - Result: (sopra, (0)), (la, (0, 1)), ...\n",
    "\n",
    "Also, check how sorting works and try to sort key-value RDDs by descending values."
   ],
   "id": "84d04659ace472d8"
  },
  {
   "metadata": {
    "ExecuteTime": {
     "end_time": "2024-10-30T08:13:52.228503Z",
     "start_time": "2024-10-30T08:13:50.023151Z"
    }
   },
   "cell_type": "code",
   "source": [
    "//WORD COUNT OF EACH WORD\n",
    "val getCapraOccurrences = rddCapra.flatMap(_.split(\" \")).\n",
    "    map(word => (word, 1)).\n",
    "    reduceByKey((x, y) => x+y).sortByKey().collect\n",
    "val getDCOccurrences = rddDC.flatMap(_.split(\" \")).\n",
    "  map(word => (word, 1)).\n",
    "  reduceByKey((x, y) => x+y).collect"
   ],
   "id": "130726f3981594d7",
   "outputs": [
    {
     "data": {
      "text/plain": [
       "getCapraOccurrences: Array[(String, Int)] = Array((campa,1), (capra,2), (crepa,1), (la,4), (panca,2), (sopra,1), (sotto,1))\r\n",
       "getDCOccurrences: Array[(String, Int)] = Array((grand'avello,,1), (diseta,1), (vane.,1), (tonda,3), (blandimenti;,1), (sapore,1), (dando,3), (Verrucchio,,1), (Mantua,1), (m'apparvero,1), (disiderate,1), (dole,1), (moventi,1), (rincalzi,1), (freni,,1), (Voglia,1), (focina,1), (tormento,5), (s�:,2), (marino,,1), (scalz�,1), (pensassi,1), (esser,,2), (rade,2), (prava\".,1), (Forese,,1), (forti,4), (rossi:,1), (richiuso\".,1), (\"Segnor,1), (rota.,1), (\"ver',1), (pronti,1), (tr'ambo,2), (ch'ode,1), (chiari,,1), (lontana?\".,1), (rinovelle.,1), (perdonasse,1), (Pluto,,1), (falsai,2), (nova,,3), (sparito,,1), (stampa,,1), (doglia,7), (regina,3), (pianto;,2), (Alto,2), (giov...\r\n"
      ]
     },
     "execution_count": 6,
     "metadata": {},
     "output_type": "execute_result"
    }
   ],
   "execution_count": 6
  },
  {
   "metadata": {
    "ExecuteTime": {
     "end_time": "2024-10-30T08:14:11.333835Z",
     "start_time": "2024-10-30T08:14:09.833431Z"
    }
   },
   "cell_type": "code",
   "source": [
    "//WORD LENGTH OF EACH WORD\n",
    "val getSameLengthCapraOccurrences = rddCapra.flatMap(_.split(\" \")).\n",
    "    map(word => (word.length, 1)).\n",
    "    reduceByKey(_+_).sortByKey().collect\n",
    "val getSameLengthDCOccurrences = rddDC.flatMap(_.split(\" \")).\n",
    "  map(word => (word.length, 1)).\n",
    "  reduceByKey(_+_).sortByKey().collect"
   ],
   "id": "1e12eb3a022290",
   "outputs": [
    {
     "data": {
      "text/plain": [
       "getSameLengthCapraOccurrences: Array[(Int, Int)] = Array((2,4), (5,8))\r\n",
       "getSameLengthDCOccurrences: Array[(Int, Int)] = Array((0,10684), (1,6992), (2,19258), (3,16887), (4,9111), (5,13504), (6,11775), (7,7379), (8,5363), (9,3231), (10,1741), (11,933), (12,370), (13,154), (14,50), (15,18), (16,3), (17,1))\r\n"
      ]
     },
     "execution_count": 7,
     "metadata": {},
     "output_type": "execute_result"
    }
   ],
   "execution_count": 7
  },
  {
   "metadata": {
    "ExecuteTime": {
     "end_time": "2024-10-30T08:14:33.112301Z",
     "start_time": "2024-10-30T08:14:32.418298Z"
    }
   },
   "cell_type": "code",
   "source": [
    "// COUNT AVERAGE LENGTH OF WORDS\n",
    "val getAverageLengthInCapra = rddCapra.flatMap(_.split(\" \")).\n",
    "    filter( _.length > 0 ).\n",
    "    map( x => (x.substring(0,1).toLowerCase, (1.0,x.length.toDouble))).\n",
    "    reduceByKey((x, y) => (x._1 + y._1, x._2 + y._2)).\n",
    "    mapValues(v => v._2/v._1).\n",
    "    collect()"
   ],
   "id": "1e36262c8eadfe6e",
   "outputs": [
    {
     "data": {
      "text/plain": [
       "getAverageLengthInCapra: Array[(String, Double)] = Array((p,5.0), (l,2.0), (s,5.0), (c,5.0))\r\n"
      ]
     },
     "execution_count": 8,
     "metadata": {},
     "output_type": "execute_result"
    }
   ],
   "execution_count": 8
  },
  {
   "metadata": {
    "ExecuteTime": {
     "end_time": "2024-10-30T08:14:56.006709Z",
     "start_time": "2024-10-30T08:14:54.652556Z"
    }
   },
   "cell_type": "code",
   "source": [
    "//INVERTED INDEX OF WORDS\n",
    "val invertedIndexInCapra = rddCapra.flatMap(_.split(\" \")).zipWithIndex().groupByKey().collect\n",
    "val invertedIndexInCapra2 = rddCapra.zipWithIndex().\n",
    "  map({case (k,v)=>(v,k)}).\n",
    "  flatMapValues(_.split(\" \")).\n",
    "  map({case (k,v)=>(v,k)}).\n",
    "  distinct().\n",
    "  groupByKey().\n",
    "  collect()"
   ],
   "id": "ab32ec389a4cd1cc",
   "outputs": [
    {
     "data": {
      "text/plain": [
       "invertedIndexInCapra: Array[(String, Iterable[Long])] = Array((campa,CompactBuffer(5)), (la,CompactBuffer(1, 3, 7, 9)), (panca,CompactBuffer(2, 8)), (sotto,CompactBuffer(6)), (crepa,CompactBuffer(11)), (sopra,CompactBuffer(0)), (capra,CompactBuffer(4, 10)))\r\n",
       "invertedIndexInCapra2: Array[(String, Iterable[Long])] = Array((campa,CompactBuffer(0)), (la,CompactBuffer(0, 1)), (panca,CompactBuffer(1, 0)), (sotto,CompactBuffer(1)), (crepa,CompactBuffer(1)), (sopra,CompactBuffer(0)), (capra,CompactBuffer(0, 1)))\r\n"
      ]
     },
     "execution_count": 9,
     "metadata": {},
     "output_type": "execute_result"
    }
   ],
   "execution_count": 9
  }
 ],
 "metadata": {
  "kernelspec": {
   "display_name": "spylon-kernel",
   "language": "scala",
   "name": "spylon-kernel"
  },
  "language_info": {
   "codemirror_mode": "text/x-scala",
   "mimetype": "text/x-scala",
   "name": "scala",
   "pygments_lexer": "scala"
  }
 },
 "nbformat": 4,
 "nbformat_minor": 5
}
